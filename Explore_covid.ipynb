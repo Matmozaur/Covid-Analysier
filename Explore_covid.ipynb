{
 "cells": [
  {
   "cell_type": "markdown",
   "metadata": {},
   "source": [
    "# covid"
   ]
  },
  {
   "cell_type": "code",
   "execution_count": 23,
   "metadata": {},
   "outputs": [
    {
     "name": "stderr",
     "output_type": "stream",
     "text": [
      "Matplotlib created a temporary config/cache directory at /tmp/matplotlib-jvafbrl_ because the default path (/home/matmozaur/.config/matplotlib) is not a writable directory; it is highly recommended to set the MPLCONFIGDIR environment variable to a writable directory, in particular to speed up the import of Matplotlib and to better support multiprocessing.\n"
     ]
    }
   ],
   "source": [
    "import pandas as pd\n",
    "from datetime import timedelta, datetime\n",
    "from matplotlib.dates import DateFormatter\n",
    "import matplotlib.pyplot as plt"
   ]
  },
  {
   "cell_type": "code",
   "execution_count": 24,
   "metadata": {},
   "outputs": [],
   "source": [
    "COLUMNS_COVID_USABLE = ['total_cases', 'new_cases', 'total_deaths', 'iso_code',\n",
    "                        'new_deaths', 'total_cases_per_million', 'new_cases_per_million', 'total_deaths_per_million',\n",
    "                        'new_deaths_per_million', 'weekly_hosp_admissions', 'weekly_hosp_admissions_per_million',\n",
    "                        'new_tests', 'total_tests', 'total_tests_per_thousand', 'new_tests_per_thousand',\n",
    "                        'positive_rate',\n",
    "                        'tests_per_case', 'total_vaccinations', 'people_vaccinated', 'people_fully_vaccinated',\n",
    "                        'new_vaccinations', 'total_vaccinations_per_hundred', 'people_vaccinated_per_hundred',\n",
    "                        'people_fully_vaccinated_per_hundred']\n",
    "COLUMNS_COVID = COLUMNS_COVID_USABLE + ['location']\n",
    "TIMES_COVID = ['week', 'month', '3 months', '6 months', 'all']\n",
    "COUNTRIES = []\n",
    "COVID_DATA = None\n",
    "\n",
    "\n",
    "def download_whole_covid_data():\n",
    "    data = pd.read_csv('https://covid.ourworldindata.org/data/owid-covid-data.csv', index_col='date', parse_dates=True)\n",
    "    data = data[COLUMNS_COVID]\n",
    "    global COUNTRIES\n",
    "    COUNTRIES = list(set(data['location']))\n",
    "#     data.to_csv('data/covid_full.csv')\n",
    "    global COVID_DATA\n",
    "    COVID_DATA = data\n",
    "\n",
    "\n",
    "def download_whole_data():\n",
    "    download_whole_covid_data()"
   ]
  },
  {
   "cell_type": "code",
   "execution_count": 25,
   "metadata": {},
   "outputs": [],
   "source": [
    "download_whole_data()"
   ]
  },
  {
   "cell_type": "code",
   "execution_count": 26,
   "metadata": {},
   "outputs": [
    {
     "data": {
      "text/html": [
       "<div>\n",
       "<style scoped>\n",
       "    .dataframe tbody tr th:only-of-type {\n",
       "        vertical-align: middle;\n",
       "    }\n",
       "\n",
       "    .dataframe tbody tr th {\n",
       "        vertical-align: top;\n",
       "    }\n",
       "\n",
       "    .dataframe thead th {\n",
       "        text-align: right;\n",
       "    }\n",
       "</style>\n",
       "<table border=\"1\" class=\"dataframe\">\n",
       "  <thead>\n",
       "    <tr style=\"text-align: right;\">\n",
       "      <th></th>\n",
       "      <th>total_cases</th>\n",
       "      <th>new_cases</th>\n",
       "      <th>total_deaths</th>\n",
       "      <th>iso_code</th>\n",
       "      <th>new_deaths</th>\n",
       "      <th>total_cases_per_million</th>\n",
       "      <th>new_cases_per_million</th>\n",
       "      <th>total_deaths_per_million</th>\n",
       "      <th>new_deaths_per_million</th>\n",
       "      <th>weekly_hosp_admissions</th>\n",
       "      <th>...</th>\n",
       "      <th>positive_rate</th>\n",
       "      <th>tests_per_case</th>\n",
       "      <th>total_vaccinations</th>\n",
       "      <th>people_vaccinated</th>\n",
       "      <th>people_fully_vaccinated</th>\n",
       "      <th>new_vaccinations</th>\n",
       "      <th>total_vaccinations_per_hundred</th>\n",
       "      <th>people_vaccinated_per_hundred</th>\n",
       "      <th>people_fully_vaccinated_per_hundred</th>\n",
       "      <th>location</th>\n",
       "    </tr>\n",
       "    <tr>\n",
       "      <th>date</th>\n",
       "      <th></th>\n",
       "      <th></th>\n",
       "      <th></th>\n",
       "      <th></th>\n",
       "      <th></th>\n",
       "      <th></th>\n",
       "      <th></th>\n",
       "      <th></th>\n",
       "      <th></th>\n",
       "      <th></th>\n",
       "      <th></th>\n",
       "      <th></th>\n",
       "      <th></th>\n",
       "      <th></th>\n",
       "      <th></th>\n",
       "      <th></th>\n",
       "      <th></th>\n",
       "      <th></th>\n",
       "      <th></th>\n",
       "      <th></th>\n",
       "      <th></th>\n",
       "    </tr>\n",
       "  </thead>\n",
       "  <tbody>\n",
       "    <tr>\n",
       "      <th>2020-02-24</th>\n",
       "      <td>1.0</td>\n",
       "      <td>1.0</td>\n",
       "      <td>NaN</td>\n",
       "      <td>AFG</td>\n",
       "      <td>NaN</td>\n",
       "      <td>0.026</td>\n",
       "      <td>0.026</td>\n",
       "      <td>NaN</td>\n",
       "      <td>NaN</td>\n",
       "      <td>NaN</td>\n",
       "      <td>...</td>\n",
       "      <td>NaN</td>\n",
       "      <td>NaN</td>\n",
       "      <td>NaN</td>\n",
       "      <td>NaN</td>\n",
       "      <td>NaN</td>\n",
       "      <td>NaN</td>\n",
       "      <td>NaN</td>\n",
       "      <td>NaN</td>\n",
       "      <td>NaN</td>\n",
       "      <td>Afghanistan</td>\n",
       "    </tr>\n",
       "    <tr>\n",
       "      <th>2020-02-25</th>\n",
       "      <td>1.0</td>\n",
       "      <td>0.0</td>\n",
       "      <td>NaN</td>\n",
       "      <td>AFG</td>\n",
       "      <td>NaN</td>\n",
       "      <td>0.026</td>\n",
       "      <td>0.000</td>\n",
       "      <td>NaN</td>\n",
       "      <td>NaN</td>\n",
       "      <td>NaN</td>\n",
       "      <td>...</td>\n",
       "      <td>NaN</td>\n",
       "      <td>NaN</td>\n",
       "      <td>NaN</td>\n",
       "      <td>NaN</td>\n",
       "      <td>NaN</td>\n",
       "      <td>NaN</td>\n",
       "      <td>NaN</td>\n",
       "      <td>NaN</td>\n",
       "      <td>NaN</td>\n",
       "      <td>Afghanistan</td>\n",
       "    </tr>\n",
       "    <tr>\n",
       "      <th>2020-02-26</th>\n",
       "      <td>1.0</td>\n",
       "      <td>0.0</td>\n",
       "      <td>NaN</td>\n",
       "      <td>AFG</td>\n",
       "      <td>NaN</td>\n",
       "      <td>0.026</td>\n",
       "      <td>0.000</td>\n",
       "      <td>NaN</td>\n",
       "      <td>NaN</td>\n",
       "      <td>NaN</td>\n",
       "      <td>...</td>\n",
       "      <td>NaN</td>\n",
       "      <td>NaN</td>\n",
       "      <td>NaN</td>\n",
       "      <td>NaN</td>\n",
       "      <td>NaN</td>\n",
       "      <td>NaN</td>\n",
       "      <td>NaN</td>\n",
       "      <td>NaN</td>\n",
       "      <td>NaN</td>\n",
       "      <td>Afghanistan</td>\n",
       "    </tr>\n",
       "    <tr>\n",
       "      <th>2020-02-27</th>\n",
       "      <td>1.0</td>\n",
       "      <td>0.0</td>\n",
       "      <td>NaN</td>\n",
       "      <td>AFG</td>\n",
       "      <td>NaN</td>\n",
       "      <td>0.026</td>\n",
       "      <td>0.000</td>\n",
       "      <td>NaN</td>\n",
       "      <td>NaN</td>\n",
       "      <td>NaN</td>\n",
       "      <td>...</td>\n",
       "      <td>NaN</td>\n",
       "      <td>NaN</td>\n",
       "      <td>NaN</td>\n",
       "      <td>NaN</td>\n",
       "      <td>NaN</td>\n",
       "      <td>NaN</td>\n",
       "      <td>NaN</td>\n",
       "      <td>NaN</td>\n",
       "      <td>NaN</td>\n",
       "      <td>Afghanistan</td>\n",
       "    </tr>\n",
       "    <tr>\n",
       "      <th>2020-02-28</th>\n",
       "      <td>1.0</td>\n",
       "      <td>0.0</td>\n",
       "      <td>NaN</td>\n",
       "      <td>AFG</td>\n",
       "      <td>NaN</td>\n",
       "      <td>0.026</td>\n",
       "      <td>0.000</td>\n",
       "      <td>NaN</td>\n",
       "      <td>NaN</td>\n",
       "      <td>NaN</td>\n",
       "      <td>...</td>\n",
       "      <td>NaN</td>\n",
       "      <td>NaN</td>\n",
       "      <td>NaN</td>\n",
       "      <td>NaN</td>\n",
       "      <td>NaN</td>\n",
       "      <td>NaN</td>\n",
       "      <td>NaN</td>\n",
       "      <td>NaN</td>\n",
       "      <td>NaN</td>\n",
       "      <td>Afghanistan</td>\n",
       "    </tr>\n",
       "  </tbody>\n",
       "</table>\n",
       "<p>5 rows × 25 columns</p>\n",
       "</div>"
      ],
      "text/plain": [
       "            total_cases  new_cases  total_deaths iso_code  new_deaths  \\\n",
       "date                                                                    \n",
       "2020-02-24          1.0        1.0           NaN      AFG         NaN   \n",
       "2020-02-25          1.0        0.0           NaN      AFG         NaN   \n",
       "2020-02-26          1.0        0.0           NaN      AFG         NaN   \n",
       "2020-02-27          1.0        0.0           NaN      AFG         NaN   \n",
       "2020-02-28          1.0        0.0           NaN      AFG         NaN   \n",
       "\n",
       "            total_cases_per_million  new_cases_per_million  \\\n",
       "date                                                         \n",
       "2020-02-24                    0.026                  0.026   \n",
       "2020-02-25                    0.026                  0.000   \n",
       "2020-02-26                    0.026                  0.000   \n",
       "2020-02-27                    0.026                  0.000   \n",
       "2020-02-28                    0.026                  0.000   \n",
       "\n",
       "            total_deaths_per_million  new_deaths_per_million  \\\n",
       "date                                                           \n",
       "2020-02-24                       NaN                     NaN   \n",
       "2020-02-25                       NaN                     NaN   \n",
       "2020-02-26                       NaN                     NaN   \n",
       "2020-02-27                       NaN                     NaN   \n",
       "2020-02-28                       NaN                     NaN   \n",
       "\n",
       "            weekly_hosp_admissions  ...  positive_rate  tests_per_case  \\\n",
       "date                                ...                                  \n",
       "2020-02-24                     NaN  ...            NaN             NaN   \n",
       "2020-02-25                     NaN  ...            NaN             NaN   \n",
       "2020-02-26                     NaN  ...            NaN             NaN   \n",
       "2020-02-27                     NaN  ...            NaN             NaN   \n",
       "2020-02-28                     NaN  ...            NaN             NaN   \n",
       "\n",
       "            total_vaccinations  people_vaccinated  people_fully_vaccinated  \\\n",
       "date                                                                         \n",
       "2020-02-24                 NaN                NaN                      NaN   \n",
       "2020-02-25                 NaN                NaN                      NaN   \n",
       "2020-02-26                 NaN                NaN                      NaN   \n",
       "2020-02-27                 NaN                NaN                      NaN   \n",
       "2020-02-28                 NaN                NaN                      NaN   \n",
       "\n",
       "            new_vaccinations  total_vaccinations_per_hundred  \\\n",
       "date                                                           \n",
       "2020-02-24               NaN                             NaN   \n",
       "2020-02-25               NaN                             NaN   \n",
       "2020-02-26               NaN                             NaN   \n",
       "2020-02-27               NaN                             NaN   \n",
       "2020-02-28               NaN                             NaN   \n",
       "\n",
       "            people_vaccinated_per_hundred  \\\n",
       "date                                        \n",
       "2020-02-24                            NaN   \n",
       "2020-02-25                            NaN   \n",
       "2020-02-26                            NaN   \n",
       "2020-02-27                            NaN   \n",
       "2020-02-28                            NaN   \n",
       "\n",
       "            people_fully_vaccinated_per_hundred     location  \n",
       "date                                                          \n",
       "2020-02-24                                  NaN  Afghanistan  \n",
       "2020-02-25                                  NaN  Afghanistan  \n",
       "2020-02-26                                  NaN  Afghanistan  \n",
       "2020-02-27                                  NaN  Afghanistan  \n",
       "2020-02-28                                  NaN  Afghanistan  \n",
       "\n",
       "[5 rows x 25 columns]"
      ]
     },
     "execution_count": 26,
     "metadata": {},
     "output_type": "execute_result"
    }
   ],
   "source": [
    "COVID_DATA.head()"
   ]
  },
  {
   "cell_type": "code",
   "execution_count": 37,
   "metadata": {},
   "outputs": [],
   "source": [
    "measure = 'total_cases'\n",
    "GROUPS = ['World', 'Europe', 'Asia', 'North America', 'European Union',\n",
    "          'South America', 'Africa']"
   ]
  },
  {
   "cell_type": "code",
   "execution_count": 69,
   "metadata": {},
   "outputs": [
    {
     "data": {
      "text/plain": [
       "[]"
      ]
     },
     "execution_count": 69,
     "metadata": {},
     "output_type": "execute_result"
    },
    {
     "data": {
      "image/png": "[encoded data removed]",
      "text/plain": [
       "<Figure size 1440x576 with 1 Axes>"
      ]
     },
     "metadata": {
      "needs_background": "light"
     },
     "output_type": "display_data"
    }
   ],
   "source": [
    "    data = COVID_DATA\n",
    "    time = datetime.now().replace(hour=0, minute=0, second=0, microsecond=0)\n",
    "    time = time - timedelta(hours=24)\n",
    "    data = data[data.index == time]\n",
    "    data = data[~data.location.isin(GROUPS)]\n",
    "    ranking = data.sort_values(measure, ascending=False)[['location', measure]]\n",
    "    ranking.set_index('location', inplace=True)\n",
    "    fig, ax = plt.subplots(figsize=(20, 8))\n",
    "    ax.bar(ranking[:10].index, ranking[:10][measure].values)\n",
    "    ax.set_ylabel(measure)\n",
    "    plt.plot()"
   ]
  },
  {
   "cell_type": "code",
   "execution_count": 53,
   "metadata": {},
   "outputs": [
    {
     "data": {
      "image/png": "[encoded data removed]",
      "text/plain": [
       "<Figure size 720x576 with 1 Axes>"
      ]
     },
     "metadata": {
      "needs_background": "light"
     },
     "output_type": "display_data"
    }
   ],
   "source": [
    "data = COVID_DATA\n",
    "time = datetime.now().replace(hour=0, minute=0, second=0, microsecond=0)\n",
    "time = time - timedelta(hours=24)\n",
    "data = data[data.index == time]\n",
    "data = data[~data.location.isin(GROUPS)]\n",
    "ranking = data.sort_values(measure, ascending=False)[['location', measure]]\n",
    "\n",
    "\n",
    "ranking.set_index('location', inplace=True)\n",
    "\n",
    "ranking[:10].plot(kind=\"bar\", stacked=True, figsize=(10,8))\n",
    "\n",
    "plt.ylabel(measure)\n",
    "plt.show()"
   ]
  },
  {
   "cell_type": "code",
   "execution_count": null,
   "metadata": {},
   "outputs": [],
   "source": []
  },
  {
   "cell_type": "code",
   "execution_count": null,
   "metadata": {},
   "outputs": [],
   "source": []
  },
  {
   "cell_type": "code",
   "execution_count": null,
   "metadata": {},
   "outputs": [],
   "source": []
  },
  {
   "cell_type": "code",
   "execution_count": null,
   "metadata": {},
   "outputs": [],
   "source": []
  },
  {
   "cell_type": "markdown",
   "metadata": {},
   "source": [
    "# Currency data"
   ]
  },
  {
   "cell_type": "code",
   "execution_count": 2,
   "metadata": {},
   "outputs": [],
   "source": [
    "import requests \n",
    "\n",
    "URL = 'https://api.exchangeratesapi.io/history'\n",
    "\n",
    "def download_data_currency(start_date, end_date, currencies, base='EUR'): \n",
    "    params = {'base': base, 'start_at': start_date, 'end_at': end_date, 'symbols': currencies,\n",
    "#              'access_key': 'YOUR_ACCESS_KEY'\n",
    "             } \n",
    "    r = requests.get(url=URL, params=params) \n",
    "    data = r.json() \n",
    "    if 'error' in data:\n",
    "        print(data['error'])\n",
    "        return\n",
    "    return data['rates']"
   ]
  },
  {
   "cell_type": "code",
   "execution_count": 3,
   "metadata": {},
   "outputs": [
    {
     "name": "stdout",
     "output_type": "stream",
     "text": [
      "{'code': 101, 'type': 'missing_access_key', 'info': 'You have not supplied an API Access Key. [Required format: access_key=YOUR_ACCESS_KEY]'}\n"
     ]
    }
   ],
   "source": [
    "base = 'USD'\n",
    "start_date = '2019-03-15'\n",
    "end_date = '2021-03-15'\n",
    "currencies = ['PLN', 'CHF']\n",
    "\n",
    "data = download_data_currency(start_date, end_date, currencies, base)"
   ]
  },
  {
   "cell_type": "code",
   "execution_count": 4,
   "metadata": {},
   "outputs": [],
   "source": [
    "data"
   ]
  },
  {
   "cell_type": "code",
   "execution_count": null,
   "metadata": {},
   "outputs": [],
   "source": []
  },
  {
   "cell_type": "markdown",
   "metadata": {},
   "source": [
    "# Shares data"
   ]
  },
  {
   "cell_type": "code",
   "execution_count": 11,
   "metadata": {},
   "outputs": [],
   "source": [
    "import yfinance as yf\n",
    "\n",
    "\n",
    "def read_table_with_tickers():\n",
    "    df_names = pd.read_excel('data/yahoo_data.xlsx')\n",
    "    df_names = df_names.dropna()\n",
    "    return df_names\n",
    "\n",
    "\n",
    "def is_ticker_possible(df_names, str_name):\n",
    "    ticker_list = df_names[df_names[\"Name\"].str.contains(str_name)][\"Ticker\"].tolist()\n",
    "    if len(ticker_list)>0:\n",
    "        return True\n",
    "    else:\n",
    "        return False\n",
    "\n",
    "    \n",
    "def get_ticker(df_names, str_name):\n",
    "    \"\"\"Uzyskuje ticker na podstawie nazwy wprowadzonej przez użytkownika\"\"\"\n",
    "    return find_ticker_list(df_names, str_name)[0]\n",
    "\n",
    "def check_date(value, min_val, max_val):\n",
    "    \"\"\"\n",
    "    :param value: wartość pola\n",
    "    :param min_val: minimalna dopuszczalna wartość (włącznie)\n",
    "    :param max_val: maksymalna dopuszczalna wartość (włącznie)\n",
    "    :return: True - jeśli wartosć jest poprawna / False - jęsli wartość jest niepoprawna\n",
    "    \"\"\"\n",
    "    value = str(value)\n",
    "    if value.isdecimal():\n",
    "        value = int(value)\n",
    "        if value >= min_val and value <= max_val:\n",
    "            return True\n",
    "        else:\n",
    "            return False\n",
    "    else:\n",
    "        return False\n",
    "\n",
    "\n",
    "def return_valid_date(value):\n",
    "    \"\"\"\n",
    "    Używane do odpowiedniego formatowania wartości w dacie\n",
    "    np. 1 -> '01'\n",
    "    :param value: wartość\n",
    "    :return: wartość jako string i długości 2\n",
    "    \"\"\"\n",
    "    value = str(value)\n",
    "    if len(value) == 1:\n",
    "        value = '0' + value\n",
    "        return value\n",
    "    else:\n",
    "        return value\n",
    "\n",
    "def get_stock_data(df_names, long_name, year, month, day):\n",
    "    if is_ticker_possible(df_names, long_name):\n",
    "        name = find_ticker_list(df_names, long_name)[0]get_ticker(df_names, long_name)\n",
    "        if check_date(year, 2000, 2021) and check_date(month, 1, 12) and check_date(day, 1, 31):\n",
    "            year, month, day = str(year), return_valid_date(month), return_valid_date(day)\n",
    "            string_data = \"{0}-{1}-{2}\".format(str(year), str(month), str(day))\n",
    "            df = yf.download(name,   start=string_data)\n",
    "            return df\n",
    "\n",
    "df_names = read_table_with_tickers()\n",
    "df_apple = get_stock_data(df_names, \"Apple\", 2020, 1, 1)\n",
    "df_apple\n",
    "\n"
   ]
  }
 ],
 "metadata": {
  "kernelspec": {
   "display_name": "gpu_env",
   "language": "python",
   "name": "gpu_env"
  },
  "language_info": {
   "codemirror_mode": {
    "name": "ipython",
    "version": 3
   },
   "file_extension": ".py",
   "mimetype": "text/x-python",
   "name": "python",
   "nbconvert_exporter": "python",
   "pygments_lexer": "ipython3",
   "version": "3.8.5"
  }
 },
 "nbformat": 4,
 "nbformat_minor": 5
}
